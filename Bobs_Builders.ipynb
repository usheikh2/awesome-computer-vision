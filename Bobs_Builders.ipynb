{
  "nbformat": 4,
  "nbformat_minor": 0,
  "metadata": {
    "colab": {
      "name": "Bobs_Builders.ipynb",
      "provenance": [],
      "machine_shape": "hm",
      "include_colab_link": true
    },
    "kernelspec": {
      "name": "python3",
      "display_name": "Python 3"
    },
    "language_info": {
      "name": "python"
    },
    "accelerator": "GPU",
    "gpuClass": "standard"
  },
  "cells": [
    {
      "cell_type": "markdown",
      "metadata": {
        "id": "view-in-github",
        "colab_type": "text"
      },
      "source": [
        "<a href=\"https://colab.research.google.com/github/usheikh2/awesome-computer-vision/blob/master/Bobs_Builders.ipynb\" target=\"_parent\"><img src=\"https://colab.research.google.com/assets/colab-badge.svg\" alt=\"Open In Colab\"/></a>"
      ]
    },
    {
      "cell_type": "code",
      "source": [
        "from google.colab import drive\n",
        "drive.mount('/content/drive')"
      ],
      "metadata": {
        "id": "O73OG_kH1OC2"
      },
      "execution_count": null,
      "outputs": []
    },
    {
      "cell_type": "code",
      "execution_count": null,
      "metadata": {
        "id": "i-ETN8vllMGX"
      },
      "outputs": [],
      "source": [
        "import tensorflow as tf\n",
        "print (tf.version.VERSION)\n",
        "\n",
        "!pip install lvis\n",
        "!pip install tensorflow.io\n",
        "!pip install tf-models-official\n",
        "!pip uninstall opencv-pythony\n",
        "!pip install opencv-python\n",
        "!apt install --allow-change-held-packages libcudnn8=8.1.0.77-1+cuda11.2\n",
        "\n"
      ]
    },
    {
      "cell_type": "markdown",
      "source": [
        ""
      ],
      "metadata": {
        "id": "fMiFV2vmmqyC"
      }
    },
    {
      "cell_type": "code",
      "source": [
        "%%shell\n",
        "mkdir tfModels\n",
        "cd tfModels\n",
        "git clone https://github.com/tensorflow/models.git"
      ],
      "metadata": {
        "id": "Ip5CoSvGmrkh"
      },
      "execution_count": null,
      "outputs": []
    },
    {
      "cell_type": "code",
      "source": [
        "%%shell\n",
        "cd tfModels/models/research/slim\n",
        "protoc object_detection/protos/*.proto --python_out=.\n",
        "export PYTHONPATH=$PYTHONPATH:/content/tfModels/models/research\n",
        "export PYTHONPATH=$PYTHONPATH:/content/tfModels/models/research/slim\n",
        "python setup.py build\n",
        "python setup.py install\n"
      ],
      "metadata": {
        "id": "_u7_TE9Bnt2L"
      },
      "execution_count": null,
      "outputs": []
    },
    {
      "cell_type": "code",
      "source": [
        "%%shell\n",
        "mkdir pretrained\n",
        "cd pretrained\n",
        "wget http://download.tensorflow.org/models/object_detection/tf2/20200711/ssd_resnet50_v1_fpn_1024x1024_coco17_tpu-8.tar.gz\n",
        "tar -xvf ssd_resnet50_v1_fpn_1024x1024_coco17_tpu-8.tar.gz\n"
      ],
      "metadata": {
        "id": "CECB13pJosVF"
      },
      "execution_count": null,
      "outputs": []
    },
    {
      "cell_type": "code",
      "source": [
        "%%shell\n",
        "mkdir pretrained\n",
        "cd pretrained\n",
        "wget http://download.tensorflow.org/models/object_detection/tf2/20200711/ssd_resnet50_v1_fpn_640x640_coco17_tpu-8.tar.gz\n",
        "tar -xvf ssd_resnet50_v1_fpn_640x640_coco17_tpu-8.tar.gz"
      ],
      "metadata": {
        "id": "NFTpUsoCvmSw"
      },
      "execution_count": null,
      "outputs": []
    },
    {
      "cell_type": "code",
      "source": [
        "%%shell\n",
        "cd /content/drive/MyDrive/Bobs_Builders/ACID_7000.v9-final-sprint-2-dataset.tfrecord/train\n",
        "\n",
        "raw_dataset = tf.data.TFRecordDataset(\"EquipmentType.tfrecord\")\n",
        "\n",
        "#shards = 10\n",
        "\n",
        "#for i in range(shards):\n",
        "    #writer = tf.data.experimental.TFRecordWriter(f\"EquipmentType-part-{i}.tfrecord\")\n",
        "    #writer.write(raw_dataset.shard(shards, i))"
      ],
      "metadata": {
        "id": "SkLJBBpWmW12"
      },
      "execution_count": null,
      "outputs": []
    },
    {
      "cell_type": "code",
      "source": [
        "%%shell\n",
        "\n",
        "export PYTHONPATH=$PYTHONPATH:/content/tfModels/models/research\n",
        "export PYTHONPATH=$PYTHONPATH:/content/tfModels/models/research/slim\n",
        "cd /content/tfModels/models/research\n",
        "PIPELINE_CONFIG_PATH=/content/drive/MyDrive/Bobs_Builders/pipeline640.config\n",
        "MODEL_DIR=/content/drive/MyDrive/Bobs_Builders/modelOutput\n",
        "NUM_TRAIN_STEPS=10\n",
        "SAMPLE_1_OF_N_EVAL_EXAMPLES=1\n",
        "python object_detection/model_main_tf2.py \\\n",
        "    --pipeline_config_path=${PIPELINE_CONFIG_PATH} \\\n",
        "    --model_dir=${MODEL_DIR} \\\n",
        "    --num_train_steps=${NUM_TRAIN_STEPS} \\\n",
        "    --sample_1_of_n_eval_examples=$SAMPLE_1_OF_N_EVAL_EXAMPLES \\\n",
        "    --alsologtostderr\n"
      ],
      "metadata": {
        "id": "IvSyIREXpaDK"
      },
      "execution_count": null,
      "outputs": []
    }
  ]
}